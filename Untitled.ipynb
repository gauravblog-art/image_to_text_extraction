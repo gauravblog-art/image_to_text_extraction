{
 "cells": [
  {
   "cell_type": "markdown",
   "id": "solid-action",
   "metadata": {},
   "source": [
    "# Frist Import all required Libeary"
   ]
  },
  {
   "cell_type": "code",
   "execution_count": 8,
   "id": "alpine-condition",
   "metadata": {},
   "outputs": [],
   "source": [
    "import pytesseract\n",
    "\n",
    "pytesseract.pytesseract.tesseract_cmd = r'C:\\Program Files\\Tesseract-OCR\\tesseract.exe'\n",
    "\n"
   ]
  },
  {
   "cell_type": "code",
   "execution_count": 9,
   "id": "distributed-offer",
   "metadata": {},
   "outputs": [],
   "source": [
    "import cv2"
   ]
  },
  {
   "cell_type": "markdown",
   "id": "positive-rabbit",
   "metadata": {},
   "source": [
    "# Code for showing "
   ]
  },
  {
   "cell_type": "code",
   "execution_count": 10,
   "id": "buried-license",
   "metadata": {},
   "outputs": [],
   "source": [
    "img=cv2.imread('test1.png')\n",
    "cv2.imshow('sample image',img)\n",
    "cv2.waitKey(0)\n",
    "cv2.destroyAllWindows()"
   ]
  },
  {
   "cell_type": "markdown",
   "id": "tired-thickness",
   "metadata": {},
   "source": [
    "# extract the Text From Image"
   ]
  },
  {
   "cell_type": "code",
   "execution_count": 11,
   "id": "spectacular-vault",
   "metadata": {},
   "outputs": [
    {
     "name": "stdout",
     "output_type": "stream",
     "text": [
      "ie ee” 60) th ‘alt\n",
      "fushefison IY IY |! | fot hiro\n",
      "pi ae Buch 28 91 \\SI5\\ Mo, ¢ 1 Seuli\n",
      "NL Pla Hecad £ Souiinge.\n",
      "sh Ayn, lo la Yausl L Orbdead\n",
      "\n",
      "\n"
     ]
    }
   ],
   "source": [
    "text= pytesseract.image_to_string(img)\n",
    "\n",
    "print(text)"
   ]
  },
  {
   "cell_type": "code",
   "execution_count": null,
   "id": "focal-adoption",
   "metadata": {},
   "outputs": [],
   "source": []
  }
 ],
 "metadata": {
  "kernelspec": {
   "display_name": "Python 3",
   "language": "python",
   "name": "python3"
  },
  "language_info": {
   "codemirror_mode": {
    "name": "ipython",
    "version": 3
   },
   "file_extension": ".py",
   "mimetype": "text/x-python",
   "name": "python",
   "nbconvert_exporter": "python",
   "pygments_lexer": "ipython3",
   "version": "3.7.3"
  }
 },
 "nbformat": 4,
 "nbformat_minor": 5
}
